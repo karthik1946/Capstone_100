{
 "cells": [
  {
   "cell_type": "code",
   "execution_count": 7,
   "id": "d57d54d6",
   "metadata": {},
   "outputs": [
    {
     "name": "stdout",
     "output_type": "stream",
     "text": [
      "Error executing command: Command '/Users/karthiksatyanarayana/Downloads/openMVG/openMVG_Build/openMVS/build/openMVG_main_SfMInit_ImageListing -i /Users/karthiksatyanarayana/Downloads/3d -o /Users/karthiksatyanarayana/Downloads/3d -d /Users/karthiksatyanarayana/Downloads/openMVG/openMVG_Build/openMVS/build/sensor_width_camera_database.txt' returned non-zero exit status 127.\n",
      "Error executing command: Command '/Users/karthiksatyanarayana/Downloads/openMVG/openMVG_Build/openMVS/build/openMVG_main_ComputeFeatures -i /Users/karthiksatyanarayana/Downloads/3d/sfm_data.json -o /Users/karthiksatyanarayana/Downloads/3d' returned non-zero exit status 127.\n",
      "Error executing command: Command '/Users/karthiksatyanarayana/Downloads/openMVG/openMVG_Build/openMVS/build/openMVG_main_ComputeMatches -i /Users/karthiksatyanarayana/Downloads/3d/sfm_data.json -o /Users/karthiksatyanarayana/Downloads/3d' returned non-zero exit status 127.\n",
      "Error executing command: Command '/Users/karthiksatyanarayana/Downloads/openMVG/openMVG_Build/openMVS/build/openMVG_main_IncrementalSfM -i /Users/karthiksatyanarayana/Downloads/3d/sfm_data.json -m /Users/karthiksatyanarayana/Downloads/3d -o /Users/karthiksatyanarayana/Downloads/3d/sfm' returned non-zero exit status 127.\n",
      "Error executing command: Command '/Users/karthiksatyanarayana/Downloads/openMVG/openMVG_Build/openMVS/build/openMVG_main_openMVG2openMVS -i /Users/karthiksatyanarayana/Downloads/3d/sfm/sfm_data.bin -o /Users/karthiksatyanarayana/Downloads/3d/scene.mvs' returned non-zero exit status 127.\n",
      "Error executing command: Command '/Users/karthiksatyanarayana/Downloads/openMVG/openMVG_Build/openMVS/openMVS_build/bin/DensifyPointCloud /Users/karthiksatyanarayana/Downloads/3d/scene.mvs -o /Users/karthiksatyanarayana/Downloads/3d/densified' returned non-zero exit status 127.\n",
      "Error executing command: Command '/Users/karthiksatyanarayana/Downloads/openMVG/openMVG_Build/openMVS/openMVS_build/bin/ReconstructMesh /Users/karthiksatyanarayana/Downloads/3d/densified/scene_dense.mvs -o /Users/karthiksatyanarayana/Downloads/3d/meshed/mesh.ply' returned non-zero exit status 127.\n",
      "Reconstruction completed. Results saved in /Users/karthiksatyanarayana/Downloads/3d\n"
     ]
    },
    {
     "name": "stderr",
     "output_type": "stream",
     "text": [
      "/bin/sh: /Users/karthiksatyanarayana/Downloads/openMVG/openMVG_Build/openMVS/build/openMVG_main_SfMInit_ImageListing: No such file or directory\n",
      "/bin/sh: /Users/karthiksatyanarayana/Downloads/openMVG/openMVG_Build/openMVS/build/openMVG_main_ComputeFeatures: No such file or directory\n",
      "/bin/sh: /Users/karthiksatyanarayana/Downloads/openMVG/openMVG_Build/openMVS/build/openMVG_main_ComputeMatches: No such file or directory\n",
      "/bin/sh: /Users/karthiksatyanarayana/Downloads/openMVG/openMVG_Build/openMVS/build/openMVG_main_IncrementalSfM: No such file or directory\n",
      "/bin/sh: /Users/karthiksatyanarayana/Downloads/openMVG/openMVG_Build/openMVS/build/openMVG_main_openMVG2openMVS: No such file or directory\n",
      "/bin/sh: /Users/karthiksatyanarayana/Downloads/openMVG/openMVG_Build/openMVS/openMVS_build/bin/DensifyPointCloud: No such file or directory\n",
      "/bin/sh: /Users/karthiksatyanarayana/Downloads/openMVG/openMVG_Build/openMVS/openMVS_build/bin/ReconstructMesh: No such file or directory\n"
     ]
    }
   ],
   "source": [
    "import os\n",
    "import subprocess\n",
    "\n",
    "def run_command(command):\n",
    "    \"\"\"Run a system command and handle errors.\"\"\"\n",
    "    try:\n",
    "        subprocess.check_call(command, shell=True)\n",
    "    except subprocess.CalledProcessError as e:\n",
    "        print(f\"Error executing command: {e}\")\n",
    "        exit(1)\n",
    "\n",
    "def sfm_pipeline(images_dir, output_dir, openmvg_bin, openmvs_bin):\n",
    "    \"\"\"Run the full SfM pipeline using OpenMVG and OpenMVS.\"\"\"\n",
    "    if not os.path.exists(output_dir):\n",
    "        os.makedirs(output_dir)\n",
    "\n",
    "    # Step 1: Intrinsics analysis\n",
    "    intrinsics_file = os.path.join(output_dir, \"sfm_data.json\")\n",
    "    command = f\"{openmvg_bin}/openMVG_main_SfMInit_ImageListing -i {images_dir} -o {output_dir} -d {openmvg_bin}/sensor_width_camera_database.txt\"\n",
    "    run_command(command)\n",
    "\n",
    "    # Step 2: Compute features\n",
    "    command = f\"{openmvg_bin}/openMVG_main_ComputeFeatures -i {intrinsics_file} -o {output_dir}\"\n",
    "    run_command(command)\n",
    "\n",
    "    # Step 3: Compute matches\n",
    "    command = f\"{openmvg_bin}/openMVG_main_ComputeMatches -i {intrinsics_file} -o {output_dir}\"\n",
    "    run_command(command)\n",
    "\n",
    "    # Step 4: Incremental SfM\n",
    "    sfm_output_dir = os.path.join(output_dir, \"sfm\")\n",
    "    command = f\"{openmvg_bin}/openMVG_main_IncrementalSfM -i {intrinsics_file} -m {output_dir} -o {sfm_output_dir}\"\n",
    "    run_command(command)\n",
    "\n",
    "    # Step 5: Export to MVS format\n",
    "    mvs_file = os.path.join(output_dir, \"scene.mvs\")\n",
    "    command = f\"{openmvg_bin}/openMVG_main_openMVG2openMVS -i {sfm_output_dir}/sfm_data.bin -o {mvs_file}\"\n",
    "    run_command(command)\n",
    "\n",
    "    # Step 6: Densify point cloud with OpenMVS\n",
    "    densified_output_dir = os.path.join(output_dir, \"densified\")\n",
    "    command = f\"{openmvs_bin}/DensifyPointCloud {mvs_file} -o {densified_output_dir}\"\n",
    "    run_command(command)\n",
    "\n",
    "    # Step 7: Mesh reconstruction\n",
    "    mesh_output_dir = os.path.join(output_dir, \"meshed\")\n",
    "    command = f\"{openmvs_bin}/ReconstructMesh {densified_output_dir}/scene_dense.mvs -o {mesh_output_dir}/mesh.ply\"\n",
    "    run_command(command)\n",
    "\n",
    "    print(f\"Reconstruction completed. Results saved in {output_dir}\")\n",
    "\n",
    "# Example usage:\n",
    "images_dir = \"/Users/karthiksatyanarayana/Downloads/3d\"  # Folder containing your JPEG images\n",
    "output_dir = \"/Users/karthiksatyanarayana/Downloads/3d\"  # Directory to save the results\n",
    "openmvg_bin = \"/Users/karthiksatyanarayana/Downloads/openMVG/openMVG_Build/openMVS/build\"  # Path to OpenMVG binaries\n",
    "openmvs_bin = \"/Users/karthiksatyanarayana/Downloads/openMVG/openMVG_Build/openMVS/openMVS_build/bin\"  # Path to OpenMVS binaries\n",
    "\n",
    "sfm_pipeline(images_dir, output_dir, openmvg_bin, openmvs_bin)\n"
   ]
  },
  {
   "cell_type": "code",
   "execution_count": null,
   "id": "c1f37726",
   "metadata": {},
   "outputs": [],
   "source": []
  }
 ],
 "metadata": {
  "kernelspec": {
   "display_name": "Python 3 (ipykernel)",
   "language": "python",
   "name": "python3"
  },
  "language_info": {
   "codemirror_mode": {
    "name": "ipython",
    "version": 3
   },
   "file_extension": ".py",
   "mimetype": "text/x-python",
   "name": "python",
   "nbconvert_exporter": "python",
   "pygments_lexer": "ipython3",
   "version": "3.11.5"
  }
 },
 "nbformat": 4,
 "nbformat_minor": 5
}
